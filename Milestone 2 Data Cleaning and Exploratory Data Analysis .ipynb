{
 "cells": [
  {
   "cell_type": "markdown",
   "id": "3c474f92",
   "metadata": {},
   "source": [
    "# Data Cleaning and Exploratory Data Analysis"
   ]
  },
  {
   "cell_type": "markdown",
   "id": "e395b386",
   "metadata": {},
   "source": [
    "We want to explore our data to see what's in it, but before we do this, we'll need to clean and preprocess our dataset."
   ]
  },
  {
   "cell_type": "code",
   "execution_count": 1,
   "id": "364e5beb",
   "metadata": {},
   "outputs": [],
   "source": [
    "#import necessary packages\n",
    "import pandas as pd\n",
    "import numpy as np\n",
    "import matplotlib as plt\n",
    "import seaborn as sns"
   ]
  },
  {
   "cell_type": "code",
   "execution_count": 2,
   "id": "3cb83a3b",
   "metadata": {},
   "outputs": [
    {
     "data": {
      "text/html": [
       "<div>\n",
       "<style scoped>\n",
       "    .dataframe tbody tr th:only-of-type {\n",
       "        vertical-align: middle;\n",
       "    }\n",
       "\n",
       "    .dataframe tbody tr th {\n",
       "        vertical-align: top;\n",
       "    }\n",
       "\n",
       "    .dataframe thead th {\n",
       "        text-align: right;\n",
       "    }\n",
       "</style>\n",
       "<table border=\"1\" class=\"dataframe\">\n",
       "  <thead>\n",
       "    <tr style=\"text-align: right;\">\n",
       "      <th></th>\n",
       "      <th>Unnamed: 0</th>\n",
       "      <th>user_id</th>\n",
       "      <th>book_id</th>\n",
       "      <th>review_id</th>\n",
       "      <th>rating</th>\n",
       "      <th>review_text</th>\n",
       "      <th>date_added</th>\n",
       "      <th>date_updated</th>\n",
       "      <th>read_at</th>\n",
       "      <th>started_at</th>\n",
       "      <th>n_votes</th>\n",
       "      <th>n_comments</th>\n",
       "    </tr>\n",
       "  </thead>\n",
       "  <tbody>\n",
       "    <tr>\n",
       "      <th>0</th>\n",
       "      <td>0</td>\n",
       "      <td>8842281e1d1347389f2ab93d60773d4d</td>\n",
       "      <td>24375664</td>\n",
       "      <td>5cd416f3efc3f944fce4ce2db2290d5e</td>\n",
       "      <td>5</td>\n",
       "      <td>Mind blowingly cool. Best science fiction I've...</td>\n",
       "      <td>Fri Aug 25 13:55:02 -0700 2017</td>\n",
       "      <td>Mon Oct 09 08:55:59 -0700 2017</td>\n",
       "      <td>Sat Oct 07 00:00:00 -0700 2017</td>\n",
       "      <td>Sat Aug 26 00:00:00 -0700 2017</td>\n",
       "      <td>16</td>\n",
       "      <td>0</td>\n",
       "    </tr>\n",
       "    <tr>\n",
       "      <th>1</th>\n",
       "      <td>1</td>\n",
       "      <td>8842281e1d1347389f2ab93d60773d4d</td>\n",
       "      <td>18245960</td>\n",
       "      <td>dfdbb7b0eb5a7e4c26d59a937e2e5feb</td>\n",
       "      <td>5</td>\n",
       "      <td>This is a special book. It started slow for ab...</td>\n",
       "      <td>Sun Jul 30 07:44:10 -0700 2017</td>\n",
       "      <td>Wed Aug 30 00:00:26 -0700 2017</td>\n",
       "      <td>Sat Aug 26 12:05:52 -0700 2017</td>\n",
       "      <td>Tue Aug 15 13:23:18 -0700 2017</td>\n",
       "      <td>28</td>\n",
       "      <td>1</td>\n",
       "    </tr>\n",
       "    <tr>\n",
       "      <th>2</th>\n",
       "      <td>2</td>\n",
       "      <td>8842281e1d1347389f2ab93d60773d4d</td>\n",
       "      <td>6392944</td>\n",
       "      <td>5e212a62bced17b4dbe41150e5bb9037</td>\n",
       "      <td>3</td>\n",
       "      <td>I haven't read a fun mystery book in a while a...</td>\n",
       "      <td>Mon Jul 24 02:48:17 -0700 2017</td>\n",
       "      <td>Sun Jul 30 09:28:03 -0700 2017</td>\n",
       "      <td>Tue Jul 25 00:00:00 -0700 2017</td>\n",
       "      <td>Mon Jul 24 00:00:00 -0700 2017</td>\n",
       "      <td>6</td>\n",
       "      <td>0</td>\n",
       "    </tr>\n",
       "    <tr>\n",
       "      <th>3</th>\n",
       "      <td>3</td>\n",
       "      <td>8842281e1d1347389f2ab93d60773d4d</td>\n",
       "      <td>22078596</td>\n",
       "      <td>fdd13cad0695656be99828cd75d6eb73</td>\n",
       "      <td>4</td>\n",
       "      <td>Fun, fast paced, and disturbing tale of murder...</td>\n",
       "      <td>Mon Jul 24 02:33:09 -0700 2017</td>\n",
       "      <td>Sun Jul 30 10:23:54 -0700 2017</td>\n",
       "      <td>Sun Jul 30 15:42:05 -0700 2017</td>\n",
       "      <td>Tue Jul 25 00:00:00 -0700 2017</td>\n",
       "      <td>22</td>\n",
       "      <td>4</td>\n",
       "    </tr>\n",
       "    <tr>\n",
       "      <th>4</th>\n",
       "      <td>4</td>\n",
       "      <td>8842281e1d1347389f2ab93d60773d4d</td>\n",
       "      <td>6644782</td>\n",
       "      <td>bd0df91c9d918c0e433b9ab3a9a5c451</td>\n",
       "      <td>4</td>\n",
       "      <td>A fun book that gives you a sense of living in...</td>\n",
       "      <td>Mon Jul 24 02:28:14 -0700 2017</td>\n",
       "      <td>Thu Aug 24 00:07:20 -0700 2017</td>\n",
       "      <td>Sat Aug 05 00:00:00 -0700 2017</td>\n",
       "      <td>Sun Jul 30 00:00:00 -0700 2017</td>\n",
       "      <td>8</td>\n",
       "      <td>0</td>\n",
       "    </tr>\n",
       "  </tbody>\n",
       "</table>\n",
       "</div>"
      ],
      "text/plain": [
       "   Unnamed: 0                           user_id   book_id  \\\n",
       "0           0  8842281e1d1347389f2ab93d60773d4d  24375664   \n",
       "1           1  8842281e1d1347389f2ab93d60773d4d  18245960   \n",
       "2           2  8842281e1d1347389f2ab93d60773d4d   6392944   \n",
       "3           3  8842281e1d1347389f2ab93d60773d4d  22078596   \n",
       "4           4  8842281e1d1347389f2ab93d60773d4d   6644782   \n",
       "\n",
       "                          review_id  rating  \\\n",
       "0  5cd416f3efc3f944fce4ce2db2290d5e       5   \n",
       "1  dfdbb7b0eb5a7e4c26d59a937e2e5feb       5   \n",
       "2  5e212a62bced17b4dbe41150e5bb9037       3   \n",
       "3  fdd13cad0695656be99828cd75d6eb73       4   \n",
       "4  bd0df91c9d918c0e433b9ab3a9a5c451       4   \n",
       "\n",
       "                                         review_text  \\\n",
       "0  Mind blowingly cool. Best science fiction I've...   \n",
       "1  This is a special book. It started slow for ab...   \n",
       "2  I haven't read a fun mystery book in a while a...   \n",
       "3  Fun, fast paced, and disturbing tale of murder...   \n",
       "4  A fun book that gives you a sense of living in...   \n",
       "\n",
       "                       date_added                    date_updated  \\\n",
       "0  Fri Aug 25 13:55:02 -0700 2017  Mon Oct 09 08:55:59 -0700 2017   \n",
       "1  Sun Jul 30 07:44:10 -0700 2017  Wed Aug 30 00:00:26 -0700 2017   \n",
       "2  Mon Jul 24 02:48:17 -0700 2017  Sun Jul 30 09:28:03 -0700 2017   \n",
       "3  Mon Jul 24 02:33:09 -0700 2017  Sun Jul 30 10:23:54 -0700 2017   \n",
       "4  Mon Jul 24 02:28:14 -0700 2017  Thu Aug 24 00:07:20 -0700 2017   \n",
       "\n",
       "                          read_at                      started_at  n_votes  \\\n",
       "0  Sat Oct 07 00:00:00 -0700 2017  Sat Aug 26 00:00:00 -0700 2017       16   \n",
       "1  Sat Aug 26 12:05:52 -0700 2017  Tue Aug 15 13:23:18 -0700 2017       28   \n",
       "2  Tue Jul 25 00:00:00 -0700 2017  Mon Jul 24 00:00:00 -0700 2017        6   \n",
       "3  Sun Jul 30 15:42:05 -0700 2017  Tue Jul 25 00:00:00 -0700 2017       22   \n",
       "4  Sat Aug 05 00:00:00 -0700 2017  Sun Jul 30 00:00:00 -0700 2017        8   \n",
       "\n",
       "   n_comments  \n",
       "0           0  \n",
       "1           1  \n",
       "2           0  \n",
       "3           4  \n",
       "4           0  "
      ]
     },
     "execution_count": 2,
     "metadata": {},
     "output_type": "execute_result"
    }
   ],
   "source": [
    "#read in reviews.csv as a dataframe\n",
    "df = pd.read_csv('D:/Datasets/reviews.csv')\n",
    "df.head()"
   ]
  },
  {
   "cell_type": "code",
   "execution_count": 3,
   "id": "c9c65497",
   "metadata": {},
   "outputs": [
    {
     "data": {
      "text/html": [
       "<div>\n",
       "<style scoped>\n",
       "    .dataframe tbody tr th:only-of-type {\n",
       "        vertical-align: middle;\n",
       "    }\n",
       "\n",
       "    .dataframe tbody tr th {\n",
       "        vertical-align: top;\n",
       "    }\n",
       "\n",
       "    .dataframe thead th {\n",
       "        text-align: right;\n",
       "    }\n",
       "</style>\n",
       "<table border=\"1\" class=\"dataframe\">\n",
       "  <thead>\n",
       "    <tr style=\"text-align: right;\">\n",
       "      <th></th>\n",
       "      <th>Unnamed: 0</th>\n",
       "      <th>book_id</th>\n",
       "      <th>rating</th>\n",
       "      <th>n_votes</th>\n",
       "      <th>n_comments</th>\n",
       "    </tr>\n",
       "  </thead>\n",
       "  <tbody>\n",
       "    <tr>\n",
       "      <th>count</th>\n",
       "      <td>10000.00000</td>\n",
       "      <td>1.000000e+04</td>\n",
       "      <td>10000.000000</td>\n",
       "      <td>10000.00000</td>\n",
       "      <td>10000.000000</td>\n",
       "    </tr>\n",
       "    <tr>\n",
       "      <th>mean</th>\n",
       "      <td>4999.50000</td>\n",
       "      <td>1.184425e+07</td>\n",
       "      <td>3.737500</td>\n",
       "      <td>1.32860</td>\n",
       "      <td>0.252300</td>\n",
       "    </tr>\n",
       "    <tr>\n",
       "      <th>std</th>\n",
       "      <td>2886.89568</td>\n",
       "      <td>9.773148e+06</td>\n",
       "      <td>1.244246</td>\n",
       "      <td>4.81632</td>\n",
       "      <td>1.034771</td>\n",
       "    </tr>\n",
       "    <tr>\n",
       "      <th>min</th>\n",
       "      <td>0.00000</td>\n",
       "      <td>1.000000e+00</td>\n",
       "      <td>0.000000</td>\n",
       "      <td>0.00000</td>\n",
       "      <td>0.000000</td>\n",
       "    </tr>\n",
       "    <tr>\n",
       "      <th>25%</th>\n",
       "      <td>2499.75000</td>\n",
       "      <td>1.373347e+06</td>\n",
       "      <td>3.000000</td>\n",
       "      <td>0.00000</td>\n",
       "      <td>0.000000</td>\n",
       "    </tr>\n",
       "    <tr>\n",
       "      <th>50%</th>\n",
       "      <td>4999.50000</td>\n",
       "      <td>1.120334e+07</td>\n",
       "      <td>4.000000</td>\n",
       "      <td>0.00000</td>\n",
       "      <td>0.000000</td>\n",
       "    </tr>\n",
       "    <tr>\n",
       "      <th>75%</th>\n",
       "      <td>7499.25000</td>\n",
       "      <td>1.851409e+07</td>\n",
       "      <td>5.000000</td>\n",
       "      <td>1.00000</td>\n",
       "      <td>0.000000</td>\n",
       "    </tr>\n",
       "    <tr>\n",
       "      <th>max</th>\n",
       "      <td>9999.00000</td>\n",
       "      <td>3.625277e+07</td>\n",
       "      <td>5.000000</td>\n",
       "      <td>155.00000</td>\n",
       "      <td>25.000000</td>\n",
       "    </tr>\n",
       "  </tbody>\n",
       "</table>\n",
       "</div>"
      ],
      "text/plain": [
       "        Unnamed: 0       book_id        rating      n_votes    n_comments\n",
       "count  10000.00000  1.000000e+04  10000.000000  10000.00000  10000.000000\n",
       "mean    4999.50000  1.184425e+07      3.737500      1.32860      0.252300\n",
       "std     2886.89568  9.773148e+06      1.244246      4.81632      1.034771\n",
       "min        0.00000  1.000000e+00      0.000000      0.00000      0.000000\n",
       "25%     2499.75000  1.373347e+06      3.000000      0.00000      0.000000\n",
       "50%     4999.50000  1.120334e+07      4.000000      0.00000      0.000000\n",
       "75%     7499.25000  1.851409e+07      5.000000      1.00000      0.000000\n",
       "max     9999.00000  3.625277e+07      5.000000    155.00000     25.000000"
      ]
     },
     "execution_count": 3,
     "metadata": {},
     "output_type": "execute_result"
    }
   ],
   "source": [
    "#taking a look at some summary statistics of the data.\n",
    "df.describe()"
   ]
  },
  {
   "cell_type": "code",
   "execution_count": 4,
   "id": "3ded5ca4",
   "metadata": {},
   "outputs": [
    {
     "data": {
      "text/plain": [
       "Unnamed: 0      10000\n",
       "user_id           245\n",
       "book_id          8756\n",
       "review_id       10000\n",
       "rating              6\n",
       "review_text      9923\n",
       "date_added       9991\n",
       "date_updated     9959\n",
       "read_at          5398\n",
       "started_at       2523\n",
       "n_votes            55\n",
       "n_comments         18\n",
       "dtype: int64"
      ]
     },
     "execution_count": 4,
     "metadata": {},
     "output_type": "execute_result"
    }
   ],
   "source": [
    "#checking to see how many unique values are in each column.\n",
    "df.nunique()"
   ]
  },
  {
   "cell_type": "code",
   "execution_count": 5,
   "id": "02ace3e1",
   "metadata": {},
   "outputs": [
    {
     "data": {
      "text/plain": [
       "(10000, 12)"
      ]
     },
     "execution_count": 5,
     "metadata": {},
     "output_type": "execute_result"
    }
   ],
   "source": [
    "#check dataframe shape.\n",
    "df.shape"
   ]
  },
  {
   "cell_type": "code",
   "execution_count": 6,
   "id": "1d17c8f2",
   "metadata": {},
   "outputs": [
    {
     "data": {
      "text/plain": [
       "Unnamed: 0         0\n",
       "user_id            0\n",
       "book_id            0\n",
       "review_id          0\n",
       "rating             0\n",
       "review_text        2\n",
       "date_added         0\n",
       "date_updated       0\n",
       "read_at         1627\n",
       "started_at      4362\n",
       "n_votes            0\n",
       "n_comments         0\n",
       "dtype: int64"
      ]
     },
     "execution_count": 6,
     "metadata": {},
     "output_type": "execute_result"
    }
   ],
   "source": [
    "#Checking to see how many null values are in the dataframe.\n",
    "df.isnull().sum()"
   ]
  },
  {
   "cell_type": "code",
   "execution_count": 7,
   "id": "1ec9e294",
   "metadata": {},
   "outputs": [],
   "source": [
    "#creating a copy of the dataframe to clean and preprocess.\n",
    "df2 = df.copy()"
   ]
  },
  {
   "cell_type": "code",
   "execution_count": 8,
   "id": "198895d6",
   "metadata": {},
   "outputs": [
    {
     "data": {
      "text/plain": [
       "Unnamed: 0      0\n",
       "user_id         0\n",
       "book_id         0\n",
       "review_id       0\n",
       "rating          0\n",
       "review_text     0\n",
       "date_added      0\n",
       "date_updated    0\n",
       "read_at         0\n",
       "started_at      0\n",
       "n_votes         0\n",
       "n_comments      0\n",
       "dtype: int64"
      ]
     },
     "execution_count": 8,
     "metadata": {},
     "output_type": "execute_result"
    }
   ],
   "source": [
    "#drop na's from the dataframe.\n",
    "df2.dropna(inplace=True)\n",
    "\n",
    "#check to see if all null values were removed.\n",
    "df2.isnull().sum()"
   ]
  },
  {
   "cell_type": "code",
   "execution_count": 9,
   "id": "51a2cb50",
   "metadata": {},
   "outputs": [
    {
     "data": {
      "text/plain": [
       "Unnamed: 0       int64\n",
       "user_id         object\n",
       "book_id          int64\n",
       "review_id       object\n",
       "rating           int64\n",
       "review_text     object\n",
       "date_added      object\n",
       "date_updated    object\n",
       "read_at         object\n",
       "started_at      object\n",
       "n_votes          int64\n",
       "n_comments       int64\n",
       "dtype: object"
      ]
     },
     "execution_count": 9,
     "metadata": {},
     "output_type": "execute_result"
    }
   ],
   "source": [
    "#check dtypes in the dataframe.\n",
    "df2.dtypes"
   ]
  },
  {
   "cell_type": "code",
   "execution_count": 11,
   "id": "10207184",
   "metadata": {},
   "outputs": [
    {
     "data": {
      "text/plain": [
       "\"Mind blowingly cool. Best science fiction I've read in some time. I just loved all the descriptions of the society of the future - how they lived in trees, the notion of owning property or even getting married was gone. How every surface was a screen. \\n The undulations of how society responds to the Trisolaran threat seem surprising to me. Maybe its more the Chinese perspective, but I wouldn't have thought the ETO would exist in book 1, and I wouldn't have thought people would get so over-confident in our primitive fleet's chances given you have to think that with superior science they would have weapons - and defenses - that would just be as rifles to arrows once were. \\n But the moment when Luo Ji won as a wallfacer was just too cool. I may have actually done a fist pump. Though by the way, if the Dark Forest theory is right - and I see no reason why it wouldn't be - we as a society should probably stop broadcasting so much signal out into the universe.\""
      ]
     },
     "execution_count": 11,
     "metadata": {},
     "output_type": "execute_result"
    }
   ],
   "source": [
    "#Take a look at the first review to see what it looks like.\n",
    "df2['review_text'].unique()[0]"
   ]
  },
  {
   "cell_type": "code",
   "execution_count": 15,
   "id": "634dd977",
   "metadata": {},
   "outputs": [],
   "source": [
    "#A contractions dictionary from Wikipedia found on Stack Overflow for expanding contractions: \n",
    "#https://stackoverflow.com/questions/19790188/expanding-english-language-contractions-in-python\n",
    "contractions_dict = { \n",
    "\"ain't\": \"am not / are not / is not / has not / have not\",\n",
    "\"aren't\": \"are not / am not\",\n",
    "\"can't\": \"cannot\",\n",
    "\"can't've\": \"cannot have\",\n",
    "\"'cause\": \"because\",\n",
    "\"could've\": \"could have\",\n",
    "\"couldn't\": \"could not\",\n",
    "\"couldn't've\": \"could not have\",\n",
    "\"didn't\": \"did not\",\n",
    "\"doesn't\": \"does not\",\n",
    "\"don't\": \"do not\",\n",
    "\"hadn't\": \"had not\",\n",
    "\"hadn't've\": \"had not have\",\n",
    "\"hasn't\": \"has not\",\n",
    "\"haven't\": \"have not\",\n",
    "\"he'd\": \"he had / he would\",\n",
    "\"he'd've\": \"he would have\",\n",
    "\"he'll\": \"he shall / he will\",\n",
    "\"he'll've\": \"he shall have / he will have\",\n",
    "\"he's\": \"he has / he is\",\n",
    "\"how'd\": \"how did\",\n",
    "\"how'd'y\": \"how do you\",\n",
    "\"how'll\": \"how will\",\n",
    "\"how's\": \"how has / how is / how does\",\n",
    "\"I'd\": \"I had / I would\",\n",
    "\"I'd've\": \"I would have\",\n",
    "\"I'll\": \"I shall / I will\",\n",
    "\"I'll've\": \"I shall have / I will have\",\n",
    "\"I'm\": \"I am\",\n",
    "\"I've\": \"I have\",\n",
    "\"isn't\": \"is not\",\n",
    "\"it'd\": \"it had / it would\",\n",
    "\"it'd've\": \"it would have\",\n",
    "\"it'll\": \"it shall / it will\",\n",
    "\"it'll've\": \"it shall have / it will have\",\n",
    "\"it's\": \"it has / it is\",\n",
    "\"let's\": \"let us\",\n",
    "\"ma'am\": \"madam\",\n",
    "\"mayn't\": \"may not\",\n",
    "\"might've\": \"might have\",\n",
    "\"mightn't\": \"might not\",\n",
    "\"mightn't've\": \"might not have\",\n",
    "\"must've\": \"must have\",\n",
    "\"mustn't\": \"must not\",\n",
    "\"mustn't've\": \"must not have\",\n",
    "\"needn't\": \"need not\",\n",
    "\"needn't've\": \"need not have\",\n",
    "\"o'clock\": \"of the clock\",\n",
    "\"oughtn't\": \"ought not\",\n",
    "\"oughtn't've\": \"ought not have\",\n",
    "\"shan't\": \"shall not\",\n",
    "\"sha'n't\": \"shall not\",\n",
    "\"shan't've\": \"shall not have\",\n",
    "\"she'd\": \"she had / she would\",\n",
    "\"she'd've\": \"she would have\",\n",
    "\"she'll\": \"she shall / she will\",\n",
    "\"she'll've\": \"she shall have / she will have\",\n",
    "\"she's\": \"she has / she is\",\n",
    "\"should've\": \"should have\",\n",
    "\"shouldn't\": \"should not\",\n",
    "\"shouldn't've\": \"should not have\",\n",
    "\"so've\": \"so have\",\n",
    "\"so's\": \"so as / so is\",\n",
    "\"that'd\": \"that would / that had\",\n",
    "\"that'd've\": \"that would have\",\n",
    "\"that's\": \"that has / that is\",\n",
    "\"there'd\": \"there had / there would\",\n",
    "\"there'd've\": \"there would have\",\n",
    "\"there's\": \"there has / there is\",\n",
    "\"they'd\": \"they had / they would\",\n",
    "\"they'd've\": \"they would have\",\n",
    "\"they'll\": \"they shall / they will\",\n",
    "\"they'll've\": \"they shall have / they will have\",\n",
    "\"they're\": \"they are\",\n",
    "\"they've\": \"they have\",\n",
    "\"to've\": \"to have\",\n",
    "\"wasn't\": \"was not\",\n",
    "\"we'd\": \"we had / we would\",\n",
    "\"we'd've\": \"we would have\",\n",
    "\"we'll\": \"we will\",\n",
    "\"we'll've\": \"we will have\",\n",
    "\"we're\": \"we are\",\n",
    "\"we've\": \"we have\",\n",
    "\"weren't\": \"were not\",\n",
    "\"what'll\": \"what shall / what will\",\n",
    "\"what'll've\": \"what shall have / what will have\",\n",
    "\"what're\": \"what are\",\n",
    "\"what's\": \"what has / what is\",\n",
    "\"what've\": \"what have\",\n",
    "\"when's\": \"when has / when is\",\n",
    "\"when've\": \"when have\",\n",
    "\"where'd\": \"where did\",\n",
    "\"where's\": \"where has / where is\",\n",
    "\"where've\": \"where have\",\n",
    "\"who'll\": \"who shall / who will\",\n",
    "\"who'll've\": \"who shall have / who will have\",\n",
    "\"who's\": \"who has / who is\",\n",
    "\"who've\": \"who have\",\n",
    "\"why's\": \"why has / why is\",\n",
    "\"why've\": \"why have\",\n",
    "\"will've\": \"will have\",\n",
    "\"won't\": \"will not\",\n",
    "\"won't've\": \"will not have\",\n",
    "\"would've\": \"would have\",\n",
    "\"wouldn't\": \"would not\",\n",
    "\"wouldn't've\": \"would not have\",\n",
    "\"y'all\": \"you all\",\n",
    "\"y'all'd\": \"you all would\",\n",
    "\"y'all'd've\": \"you all would have\",\n",
    "\"y'all're\": \"you all are\",\n",
    "\"y'all've\": \"you all have\",\n",
    "\"you'd\": \"you had / you would\",\n",
    "\"you'd've\": \"you would have\",\n",
    "\"you'll\": \"you shall / you will\",\n",
    "\"you'll've\": \"you shall have / you will have\",\n",
    "\"you're\": \"you are\",\n",
    "\"you've\": \"you have\"\n",
    "}"
   ]
  },
  {
   "cell_type": "code",
   "execution_count": 16,
   "id": "0aa1e526",
   "metadata": {},
   "outputs": [],
   "source": [
    "import re\n",
    "\n",
    "#This code is code to expand contractions in text created by Abhishek Sharma:\n",
    "#https://www.analyticsvidhya.com/blog/2020/04/beginners-guide-exploratory-data-analysis-text-data/\n",
    "\n",
    "#Regular expression for finding contractions\n",
    "contractions_re=re.compile('(%s)' % '|'.join(contractions_dict.keys()))\n",
    "\n",
    "#Function for expanding contractions\n",
    "def expand_contractions(text,contractions_dict=contractions_dict):\n",
    "    def replace(match):\n",
    "        return contractions_dict[match.group(0)]\n",
    "    return contractions_re.sub(replace, text)\n",
    "\n",
    "# Expanding Contractions in the reviews\n",
    "df2['review_text']=df2['review_text'].apply(lambda x:expand_contractions(x))"
   ]
  },
  {
   "cell_type": "code",
   "execution_count": 17,
   "id": "91f239eb",
   "metadata": {},
   "outputs": [
    {
     "data": {
      "text/plain": [
       "\"Mind blowingly cool. Best science fiction I have read in some time. I just loved all the descriptions of the society of the future - how they lived in trees, the notion of owning property or even getting married was gone. How every surface was a screen. \\n The undulations of how society responds to the Trisolaran threat seem surprising to me. Maybe its more the Chinese perspective, but I would not have thought the ETO would exist in book 1, and I would not have thought people would get so over-confident in our primitive fleet's chances given you have to think that with superior science they would have weapons - and defenses - that would just be as rifles to arrows once were. \\n But the moment when Luo Ji won as a wallfacer was just too cool. I may have actually done a fist pump. Though by the way, if the Dark Forest theory is right - and I see no reason why it would not be - we as a society should probably stop broadcasting so much signal out into the universe.\""
      ]
     },
     "execution_count": 17,
     "metadata": {},
     "output_type": "execute_result"
    }
   ],
   "source": [
    "df2['review_text'].unique()[0]"
   ]
  },
  {
   "cell_type": "code",
   "execution_count": 18,
   "id": "ab121a24",
   "metadata": {},
   "outputs": [],
   "source": [
    "#make all reviews lowercase.\n",
    "df2['review_text'] = df2['review_text'].apply(lambda x: x.lower())"
   ]
  },
  {
   "cell_type": "code",
   "execution_count": 20,
   "id": "173204a7",
   "metadata": {},
   "outputs": [
    {
     "data": {
      "text/plain": [
       "\"mind blowingly cool. best science fiction i have read in some time. i just loved all the descriptions of the society of the future - how they lived in trees, the notion of owning property or even getting married was gone. how every surface was a screen. \\n the undulations of how society responds to the trisolaran threat seem surprising to me. maybe its more the chinese perspective, but i would not have thought the eto would exist in book 1, and i would not have thought people would get so over-confident in our primitive fleet's chances given you have to think that with superior science they would have weapons - and defenses - that would just be as rifles to arrows once were. \\n but the moment when luo ji won as a wallfacer was just too cool. i may have actually done a fist pump. though by the way, if the dark forest theory is right - and i see no reason why it would not be - we as a society should probably stop broadcasting so much signal out into the universe.\""
      ]
     },
     "execution_count": 20,
     "metadata": {},
     "output_type": "execute_result"
    }
   ],
   "source": [
    "df2['review_text'].unique()[0]"
   ]
  },
  {
   "cell_type": "code",
   "execution_count": 21,
   "id": "586e7fc6",
   "metadata": {},
   "outputs": [],
   "source": [
    "#removing digits and words that contain digits because the numbers don't have much weight importance.\n",
    "df2['review_text']=df2['review_text'].apply(lambda x: re.sub('\\w*\\d\\w*','', x))"
   ]
  },
  {
   "cell_type": "code",
   "execution_count": 27,
   "id": "1b0c9bc0",
   "metadata": {},
   "outputs": [
    {
     "data": {
      "text/plain": [
       "'mind blowingly cool best science fiction i have read in some time i just loved all the descriptions of the society of the future how they lived in trees the notion of owning property or even getting married was gone how every surface was a screen the undulations of how society responds to the trisolaran threat seem surprising to me maybe its more the chinese perspective but i would not have thought the eto would exist in book and i would not have thought people would get so overconfident in our primitive fleets chances given you have to think that with superior science they would have weapons and defenses that would just be as rifles to arrows once were but the moment when luo ji won as a wallfacer was just too cool i may have actually done a fist pump though by the way if the dark forest theory is right and i see no reason why it would not be we as a society should probably stop broadcasting so much signal out into the universe'"
      ]
     },
     "execution_count": 27,
     "metadata": {},
     "output_type": "execute_result"
    }
   ],
   "source": [
    "import string\n",
    "\n",
    "#This code is code to expand contractions in text created by Abhishek Sharma:\n",
    "#https://www.analyticsvidhya.com/blog/2020/04/beginners-guide-exploratory-data-analysis-text-data/\n",
    "df2['review_text']=df2['review_text'].apply(lambda x: re.sub('[%s]' % re.escape(string.punctuation), '', x))\n",
    "\n",
    "#removing all newline '\\n' characters\n",
    "df2 = df2.replace(r'\\n',' ', regex=True) \n",
    "\n",
    "#removing all excess space.\n",
    "df2['review_text']=df2['review_text'].apply(lambda x: re.sub('\\s+',' ',x))\n",
    "\n",
    "df2['review_text'].unique()[0]"
   ]
  },
  {
   "cell_type": "markdown",
   "id": "d0e65140",
   "metadata": {},
   "source": [
    "This data is now ready to have stop words removed and be lemmatized. After this, EDA can happen."
   ]
  },
  {
   "cell_type": "code",
   "execution_count": null,
   "id": "a693662f",
   "metadata": {},
   "outputs": [],
   "source": []
  }
 ],
 "metadata": {
  "kernelspec": {
   "display_name": "Python 3 (ipykernel)",
   "language": "python",
   "name": "python3"
  },
  "language_info": {
   "codemirror_mode": {
    "name": "ipython",
    "version": 3
   },
   "file_extension": ".py",
   "mimetype": "text/x-python",
   "name": "python",
   "nbconvert_exporter": "python",
   "pygments_lexer": "ipython3",
   "version": "3.9.12"
  }
 },
 "nbformat": 4,
 "nbformat_minor": 5
}
