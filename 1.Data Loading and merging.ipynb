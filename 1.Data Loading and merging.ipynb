{
 "cells": [
  {
   "cell_type": "code",
   "execution_count": 4,
   "id": "fb65f7e1",
   "metadata": {},
   "outputs": [],
   "source": [
    "import gzip\n",
    "import json\n",
    "import re\n",
    "import os\n",
    "import sys\n",
    "import numpy as np\n",
    "import pandas as pd\n",
    "from langdetect import detect"
   ]
  },
  {
   "cell_type": "code",
   "execution_count": 5,
   "id": "f672f865",
   "metadata": {},
   "outputs": [],
   "source": [
    "#Load data\n",
    "#group the reviews as low, neutral and high based on rating\n",
    "#stratify 10000\n",
    "category = ['bad','neutral','good']\n",
    "\n",
    "def cat_y(y):\n",
    "    \n",
    "    if y<=2.0:\n",
    "        return category[0]\n",
    "    \n",
    "    elif y>=4.0:\n",
    "        return category[2]\n",
    "    else:\n",
    "        return category[1]\n",
    "\n",
    "def get_reviews(path, n_samples,s=10000):\n",
    "    dt = {}\n",
    "    i=0\n",
    "    with gzip.open(path) as f:\n",
    "        for l in f:\n",
    "#             print(l)\n",
    "            dt[i] = eval(l)\n",
    "            i += 1\n",
    "            if (n_samples is not None) and (i > n_samples):\n",
    "                break\n",
    "    df = pd.DataFrame.from_dict(dt, orient='index')[['book_id','review_text','rating']]\n",
    "    \n",
    "    #remove reviews with less than 20 words\n",
    "#     df = df[df['review_text'].apply(lambda x: len(x.split())>=20)]\n",
    "    \n",
    "    df['sentiment'] = df['rating'].apply(cat_y)\n",
    "    \n",
    "    df = df.groupby('sentiment').apply(lambda x: x.sample(n=s))\n",
    "    \n",
    "    return df\n",
    "\n",
    "def load_data(path,cols,n_samples = 1000):\n",
    "    dt = {}\n",
    "    i=0\n",
    "    with gzip.open(path) as f:\n",
    "        for l in f:\n",
    "#             print(l)\n",
    "            dt[i] = eval(l)\n",
    "            i += 1\n",
    "            if (n_samples is not None) and (i > n_samples):\n",
    "                break\n",
    "                \n",
    "    df = pd.DataFrame.from_dict(dt, orient='index')[cols]\n",
    "    \n",
    "    return df\n",
    "def get_author_info(x):\n",
    "#     print(x)\n",
    "    ll = []\n",
    "    llnames=[]\n",
    "    if x:\n",
    "        for i in x:\n",
    "#             print(i['author_id'])\n",
    "            ll.append(i['author_id'])\n",
    "            llnames.append(d_a[str(i['author_id'])])\n",
    "        \n",
    "        return ll, llnames\n",
    "    else:\n",
    "        return None, None"
   ]
  },
  {
   "cell_type": "code",
   "execution_count": 6,
   "id": "efd382db",
   "metadata": {},
   "outputs": [
    {
     "name": "stderr",
     "output_type": "stream",
     "text": [
      "/var/folders/h5/6b6s2cwd2m19kydv6p77mmdh0000gn/T/ipykernel_2228/88482890.py:5: FutureWarning: Passing a negative integer is deprecated in version 1.0 and will not be supported in future version. Instead, use None to not limit the column width.\n",
      "  pd.set_option('display.max_colwidth', -1)\n"
     ]
    },
    {
     "data": {
      "text/html": [
       "<div>\n",
       "<style scoped>\n",
       "    .dataframe tbody tr th:only-of-type {\n",
       "        vertical-align: middle;\n",
       "    }\n",
       "\n",
       "    .dataframe tbody tr th {\n",
       "        vertical-align: top;\n",
       "    }\n",
       "\n",
       "    .dataframe thead th {\n",
       "        text-align: right;\n",
       "    }\n",
       "</style>\n",
       "<table border=\"1\" class=\"dataframe\">\n",
       "  <thead>\n",
       "    <tr style=\"text-align: right;\">\n",
       "      <th></th>\n",
       "      <th></th>\n",
       "      <th>book_id</th>\n",
       "      <th>review_text</th>\n",
       "      <th>rating</th>\n",
       "      <th>sentiment</th>\n",
       "    </tr>\n",
       "    <tr>\n",
       "      <th>sentiment</th>\n",
       "      <th></th>\n",
       "      <th></th>\n",
       "      <th></th>\n",
       "      <th></th>\n",
       "      <th></th>\n",
       "    </tr>\n",
       "  </thead>\n",
       "  <tbody>\n",
       "    <tr>\n",
       "      <th>good</th>\n",
       "      <th>1035308</th>\n",
       "      <td>1519358</td>\n",
       "      <td>Fun and bright illustrations with a moral at the end. The kids really enjoyed it. \\n We'll read it again.</td>\n",
       "      <td>4</td>\n",
       "      <td>good</td>\n",
       "    </tr>\n",
       "    <tr>\n",
       "      <th rowspan=\"2\" valign=\"top\">bad</th>\n",
       "      <th>1323175</th>\n",
       "      <td>8465962</td>\n",
       "      <td>I did not like this book, partly because I thought it was self-consciously arty but also because I could not stop judging the author for leaving her children. I don't think that is a fair way to evaluate a book, but I could not get past it. Gloria Steinem would be very disappointed in me (although I don't think a father should voluntarily leave a three-year-old and a five-year-old for six months either). \\n I was disappointed because I thought the book would be more about Hiroshima than about the author's maternal and marital woes. In fact, by the end of the book I thought it was a bit self-absorbed to try to juxtapose the deaths of hundreds of thousands of people against one woman's failure to answer her cell phone in a timely manner. (And see, that last sentence isn't entirely fair, either. But this book made me irritable.)</td>\n",
       "      <td>2</td>\n",
       "      <td>bad</td>\n",
       "    </tr>\n",
       "    <tr>\n",
       "      <th>991407</th>\n",
       "      <td>26030697</td>\n",
       "      <td>I guess that Mike Carey's work under this name is probably just not aimed at me. That's fine, since his output is huge and I can barely keep up anyway, but a shame since I love so much of his other work. \\n Fellside is set in a women's prison, with a slight supernatural element. I gave it over 150 pages but I just couldn't bring myself to care about what was happening in this novel. The mystery element really didn't work for me as I felt there weren't enough clues, atmosphere or tension to keep my interest. With a practically infinite TBR pile, I could not bring myself to continue with this.</td>\n",
       "      <td>0</td>\n",
       "      <td>bad</td>\n",
       "    </tr>\n",
       "  </tbody>\n",
       "</table>\n",
       "</div>"
      ],
      "text/plain": [
       "                    book_id  \\\n",
       "sentiment                     \n",
       "good      1035308  1519358    \n",
       "bad       1323175  8465962    \n",
       "          991407   26030697   \n",
       "\n",
       "                                                                                                                                                                                                                                                                                                                                                                                                                                                                                                                                                                                                                                                                                                                                                                                                                                                                             review_text  \\\n",
       "sentiment                                                                                                                                                                                                                                                                                                                                                                                                                                                                                                                                                                                                                                                                                                                                                                                                                                                                                  \n",
       "good      1035308  Fun and bright illustrations with a moral at the end. The kids really enjoyed it. \\n We'll read it again.                                                                                                                                                                                                                                                                                                                                                                                                                                                                                                                                                                                                                                                                                                                                                               \n",
       "bad       1323175  I did not like this book, partly because I thought it was self-consciously arty but also because I could not stop judging the author for leaving her children. I don't think that is a fair way to evaluate a book, but I could not get past it. Gloria Steinem would be very disappointed in me (although I don't think a father should voluntarily leave a three-year-old and a five-year-old for six months either). \\n I was disappointed because I thought the book would be more about Hiroshima than about the author's maternal and marital woes. In fact, by the end of the book I thought it was a bit self-absorbed to try to juxtapose the deaths of hundreds of thousands of people against one woman's failure to answer her cell phone in a timely manner. (And see, that last sentence isn't entirely fair, either. But this book made me irritable.)   \n",
       "          991407   I guess that Mike Carey's work under this name is probably just not aimed at me. That's fine, since his output is huge and I can barely keep up anyway, but a shame since I love so much of his other work. \\n Fellside is set in a women's prison, with a slight supernatural element. I gave it over 150 pages but I just couldn't bring myself to care about what was happening in this novel. The mystery element really didn't work for me as I felt there weren't enough clues, atmosphere or tension to keep my interest. With a practically infinite TBR pile, I could not bring myself to continue with this.                                                                                                                                                                                                                                                  \n",
       "\n",
       "                   rating sentiment  \n",
       "sentiment                            \n",
       "good      1035308  4       good      \n",
       "bad       1323175  2       bad       \n",
       "          991407   0       bad       "
      ]
     },
     "execution_count": 6,
     "metadata": {},
     "output_type": "execute_result"
    }
   ],
   "source": [
    "path = \"data/goodreads_reviews_dedup.json.gz\"\n",
    "#change the third parameter if you want to load more rows into dataframe\n",
    "review = get_reviews(path, 2000000,250000)\n",
    "# review = get_reviews(path, 100,10)\n",
    "pd.set_option('display.max_colwidth', -1)\n",
    "review.sample(3)"
   ]
  },
  {
   "cell_type": "code",
   "execution_count": 7,
   "id": "c35a5c59",
   "metadata": {},
   "outputs": [
    {
     "name": "stdout",
     "output_type": "stream",
     "text": [
      "329858\n"
     ]
    }
   ],
   "source": [
    "#numer of unique books for which we have reviews\n",
    "print(len(review.book_id.unique()))"
   ]
  },
  {
   "cell_type": "code",
   "execution_count": 9,
   "id": "6eef652c",
   "metadata": {},
   "outputs": [],
   "source": [
    "#drop na's from the dataframe.\n",
    "review['review_text'].dropna(inplace=True)"
   ]
  },
  {
   "cell_type": "code",
   "execution_count": 10,
   "id": "ddf501de",
   "metadata": {},
   "outputs": [
    {
     "data": {
      "text/plain": [
       "array(['', 'eng', 'ger', 'spa', 'en-US', 'ita', 'per', 'en-GB', 'tur',\n",
       "       'ind', 'mon', 'fre', 'por', 'ara', 'en-CA', 'tha', 'lav', 'jpn',\n",
       "       'pol', 'swe', 'kor', 'fin', 'msa', 'bul', 'nl', 'gre', 'slo',\n",
       "       'nor', 'heb', 'hun', 'ben', 'scr', 'zho', 'fil', 'rus', 'lit',\n",
       "       'rum', 'cze', 'dan', 'slv', 'nno', 'pes', 'hye', 'nob', 'cat',\n",
       "       'en', 'vie', 'nep', 'mar', 'srp', 'urd', 'guj', 'est', 'sqi',\n",
       "       'ukr', 'afr', 'mul', 'grc', 'kat', 'mkd', 'hin', 'tam', 'mus',\n",
       "       '--', 'bos', 'enm', 'gla', 'isl', 'glg', 'mal', 'kur', 'wel',\n",
       "       'pt-BR', 'crh', 'tel', 'es-MX', 'kan', 'mya', 'fao', 'aze', 'ota',\n",
       "       'arw', 'pra', 'tgl', 'lat', 'dum', 'eus', 'sin', 'mlt', 'ada',\n",
       "       'apa', 'udm', 'peo', 'bel', 'iro', 'nld', 'ori', 'smn', 'amh',\n",
       "       'tut', 'frs', 'arg', 'ang', 'abk', 'epo', 'snd', 'pan', 'egy',\n",
       "       'dut', 'vls', 'jav', 'tlh', 'din', 'gle', 'alg', 'gsw', 'nah',\n",
       "       'her', 'aus', 'aka', 'chm', 'ace', 'oci', 'ast', 'kok', 'tib',\n",
       "       'frm', 'ira', 'arp', 'grn', 'nds', 'elx', 'swa', 'dyu', 'san',\n",
       "       'sco', 'che', 'ach', 'raj', 'nqo', 'dak', 'sun', 'cor', 'fiu',\n",
       "       'inh', 'run', 'asm'], dtype=object)"
      ]
     },
     "execution_count": 10,
     "metadata": {},
     "output_type": "execute_result"
    }
   ],
   "source": [
    "#Load author information; takes a long time about 20 mins\n",
    "path = \"data/goodreads_books.json.gz\"\n",
    "#change the third parameter if you want to load more rows into dataframe\n",
    "authors = load_data(path, cols = ['book_id','language_code','authors'],n_samples=500000)\n",
    "# pd.set_option('display.max_colwidth', -1)\n",
    "authors.language_code.unique()"
   ]
  },
  {
   "cell_type": "code",
   "execution_count": 11,
   "id": "bc272b08",
   "metadata": {},
   "outputs": [
    {
     "data": {
      "text/html": [
       "<div>\n",
       "<style scoped>\n",
       "    .dataframe tbody tr th:only-of-type {\n",
       "        vertical-align: middle;\n",
       "    }\n",
       "\n",
       "    .dataframe tbody tr th {\n",
       "        vertical-align: top;\n",
       "    }\n",
       "\n",
       "    .dataframe thead th {\n",
       "        text-align: right;\n",
       "    }\n",
       "</style>\n",
       "<table border=\"1\" class=\"dataframe\">\n",
       "  <thead>\n",
       "    <tr style=\"text-align: right;\">\n",
       "      <th></th>\n",
       "      <th>book_id</th>\n",
       "      <th>language_code</th>\n",
       "      <th>authors</th>\n",
       "    </tr>\n",
       "  </thead>\n",
       "  <tbody>\n",
       "    <tr>\n",
       "      <th>0</th>\n",
       "      <td>5333265</td>\n",
       "      <td></td>\n",
       "      <td>[{'author_id': '604031', 'role': ''}]</td>\n",
       "    </tr>\n",
       "    <tr>\n",
       "      <th>1</th>\n",
       "      <td>1333909</td>\n",
       "      <td></td>\n",
       "      <td>[{'author_id': '626222', 'role': ''}]</td>\n",
       "    </tr>\n",
       "    <tr>\n",
       "      <th>2</th>\n",
       "      <td>7327624</td>\n",
       "      <td>eng</td>\n",
       "      <td>[{'author_id': '10333', 'role': ''}]</td>\n",
       "    </tr>\n",
       "    <tr>\n",
       "      <th>3</th>\n",
       "      <td>6066819</td>\n",
       "      <td>eng</td>\n",
       "      <td>[{'author_id': '9212', 'role': ''}]</td>\n",
       "    </tr>\n",
       "    <tr>\n",
       "      <th>4</th>\n",
       "      <td>287140</td>\n",
       "      <td></td>\n",
       "      <td>[{'author_id': '149918', 'role': ''}]</td>\n",
       "    </tr>\n",
       "  </tbody>\n",
       "</table>\n",
       "</div>"
      ],
      "text/plain": [
       "   book_id language_code                                authors\n",
       "0  5333265                [{'author_id': '604031', 'role': ''}]\n",
       "1  1333909                [{'author_id': '626222', 'role': ''}]\n",
       "2  7327624  eng           [{'author_id': '10333', 'role': ''}] \n",
       "3  6066819  eng           [{'author_id': '9212', 'role': ''}]  \n",
       "4  287140                 [{'author_id': '149918', 'role': ''}]"
      ]
     },
     "execution_count": 11,
     "metadata": {},
     "output_type": "execute_result"
    }
   ],
   "source": [
    "# authors.drop(columns=['author_id'], inplace=True)\n",
    "authors.head()"
   ]
  },
  {
   "cell_type": "code",
   "execution_count": 12,
   "id": "f7c5f4ac",
   "metadata": {},
   "outputs": [],
   "source": [
    "\n",
    "# next(iter((authors['authors'][0][0].items())))[1]\n",
    "# (authors['authors'][0])\n",
    "# ll=[]\n",
    "# l = [{'author_id': '381844', 'role': ''}, {'author_id': '238242', 'role': ''}, {'author_id': '4097746', 'role': 'Contributor'}]\n",
    "# for i in l:\n",
    "#     print(i['author_id'])\n",
    "#     ll.append(i['author_id'])\n",
    "\n",
    "# print(ll)\n",
    "    \n",
    "\n",
    "# authors['authors'][0]\n",
    "# author_info[author_info['author_id'] == '604031']['name'].values[0]\n"
   ]
  },
  {
   "cell_type": "code",
   "execution_count": 13,
   "id": "be2ab238",
   "metadata": {},
   "outputs": [
    {
     "name": "stderr",
     "output_type": "stream",
     "text": [
      "/var/folders/h5/6b6s2cwd2m19kydv6p77mmdh0000gn/T/ipykernel_2228/3469811614.py:5: FutureWarning: Passing a negative integer is deprecated in version 1.0 and will not be supported in future version. Instead, use None to not limit the column width.\n",
      "  pd.set_option('display.max_colwidth', -1)\n"
     ]
    },
    {
     "data": {
      "text/html": [
       "<div>\n",
       "<style scoped>\n",
       "    .dataframe tbody tr th:only-of-type {\n",
       "        vertical-align: middle;\n",
       "    }\n",
       "\n",
       "    .dataframe tbody tr th {\n",
       "        vertical-align: top;\n",
       "    }\n",
       "\n",
       "    .dataframe thead th {\n",
       "        text-align: right;\n",
       "    }\n",
       "</style>\n",
       "<table border=\"1\" class=\"dataframe\">\n",
       "  <thead>\n",
       "    <tr style=\"text-align: right;\">\n",
       "      <th></th>\n",
       "      <th>author_id</th>\n",
       "      <th>name</th>\n",
       "    </tr>\n",
       "  </thead>\n",
       "  <tbody>\n",
       "    <tr>\n",
       "      <th>373191</th>\n",
       "      <td>3333238</td>\n",
       "      <td>Zlatan Filipovic</td>\n",
       "    </tr>\n",
       "    <tr>\n",
       "      <th>91424</th>\n",
       "      <td>7525130</td>\n",
       "      <td>Amleto De Silva</td>\n",
       "    </tr>\n",
       "    <tr>\n",
       "      <th>404724</th>\n",
       "      <td>1190607</td>\n",
       "      <td>Addison Paisley</td>\n",
       "    </tr>\n",
       "  </tbody>\n",
       "</table>\n",
       "</div>"
      ],
      "text/plain": [
       "       author_id              name\n",
       "373191  3333238   Zlatan Filipovic\n",
       "91424   7525130   Amleto De Silva \n",
       "404724  1190607   Addison Paisley "
      ]
     },
     "execution_count": 13,
     "metadata": {},
     "output_type": "execute_result"
    }
   ],
   "source": [
    "#Load author name information; \n",
    "path = \"data/goodreads_book_authors.json.gz\"\n",
    "#change the third parameter if you want to load more rows into dataframe\n",
    "author_info = load_data(path, cols = ['author_id','name'], n_samples=500000)\n",
    "pd.set_option('display.max_colwidth', -1)\n",
    "author_info.sample(3)"
   ]
  },
  {
   "cell_type": "code",
   "execution_count": 14,
   "id": "756bb202",
   "metadata": {},
   "outputs": [],
   "source": [
    "# create  dict of  author id, name\n",
    "d_a = dict(zip(author_info.author_id, author_info.name))"
   ]
  },
  {
   "cell_type": "code",
   "execution_count": 15,
   "id": "d5527a07",
   "metadata": {},
   "outputs": [],
   "source": [
    "# d_a['604031']\n",
    "# authors_temp = authors[:2]"
   ]
  },
  {
   "cell_type": "code",
   "execution_count": 16,
   "id": "857c2fe5",
   "metadata": {},
   "outputs": [],
   "source": [
    "# authors_temp.head()"
   ]
  },
  {
   "cell_type": "code",
   "execution_count": 17,
   "id": "735c0cb8",
   "metadata": {},
   "outputs": [],
   "source": [
    "authors['author_id'], authors['author_names'] = zip(*authors['authors'].apply(lambda x: get_author_info(x)))\n",
    "# authors_temp['author_id'], authors_temp['author_names'] = authors_temp['authors'].apply(lambda x: get_author_info(x))"
   ]
  },
  {
   "cell_type": "code",
   "execution_count": 18,
   "id": "faf90c84",
   "metadata": {},
   "outputs": [
    {
     "data": {
      "text/html": [
       "<div>\n",
       "<style scoped>\n",
       "    .dataframe tbody tr th:only-of-type {\n",
       "        vertical-align: middle;\n",
       "    }\n",
       "\n",
       "    .dataframe tbody tr th {\n",
       "        vertical-align: top;\n",
       "    }\n",
       "\n",
       "    .dataframe thead th {\n",
       "        text-align: right;\n",
       "    }\n",
       "</style>\n",
       "<table border=\"1\" class=\"dataframe\">\n",
       "  <thead>\n",
       "    <tr style=\"text-align: right;\">\n",
       "      <th></th>\n",
       "      <th>book_id</th>\n",
       "      <th>language_code</th>\n",
       "      <th>authors</th>\n",
       "      <th>author_id</th>\n",
       "      <th>author_names</th>\n",
       "    </tr>\n",
       "  </thead>\n",
       "  <tbody>\n",
       "    <tr>\n",
       "      <th>0</th>\n",
       "      <td>5333265</td>\n",
       "      <td></td>\n",
       "      <td>[{'author_id': '604031', 'role': ''}]</td>\n",
       "      <td>[604031]</td>\n",
       "      <td>[Ronald J. Fields]</td>\n",
       "    </tr>\n",
       "    <tr>\n",
       "      <th>1</th>\n",
       "      <td>1333909</td>\n",
       "      <td></td>\n",
       "      <td>[{'author_id': '626222', 'role': ''}]</td>\n",
       "      <td>[626222]</td>\n",
       "      <td>[Anita Diamant]</td>\n",
       "    </tr>\n",
       "    <tr>\n",
       "      <th>2</th>\n",
       "      <td>7327624</td>\n",
       "      <td>eng</td>\n",
       "      <td>[{'author_id': '10333', 'role': ''}]</td>\n",
       "      <td>[10333]</td>\n",
       "      <td>[Barbara Hambly]</td>\n",
       "    </tr>\n",
       "    <tr>\n",
       "      <th>3</th>\n",
       "      <td>6066819</td>\n",
       "      <td>eng</td>\n",
       "      <td>[{'author_id': '9212', 'role': ''}]</td>\n",
       "      <td>[9212]</td>\n",
       "      <td>[Jennifer Weiner]</td>\n",
       "    </tr>\n",
       "    <tr>\n",
       "      <th>4</th>\n",
       "      <td>287140</td>\n",
       "      <td></td>\n",
       "      <td>[{'author_id': '149918', 'role': ''}]</td>\n",
       "      <td>[149918]</td>\n",
       "      <td>[Nigel Pennick]</td>\n",
       "    </tr>\n",
       "  </tbody>\n",
       "</table>\n",
       "</div>"
      ],
      "text/plain": [
       "   book_id language_code                                authors author_id  \\\n",
       "0  5333265                [{'author_id': '604031', 'role': ''}]  [604031]   \n",
       "1  1333909                [{'author_id': '626222', 'role': ''}]  [626222]   \n",
       "2  7327624  eng           [{'author_id': '10333', 'role': ''}]   [10333]    \n",
       "3  6066819  eng           [{'author_id': '9212', 'role': ''}]    [9212]     \n",
       "4  287140                 [{'author_id': '149918', 'role': ''}]  [149918]   \n",
       "\n",
       "         author_names  \n",
       "0  [Ronald J. Fields]  \n",
       "1  [Anita Diamant]     \n",
       "2  [Barbara Hambly]    \n",
       "3  [Jennifer Weiner]   \n",
       "4  [Nigel Pennick]     "
      ]
     },
     "execution_count": 18,
     "metadata": {},
     "output_type": "execute_result"
    }
   ],
   "source": [
    "authors.head()"
   ]
  },
  {
   "cell_type": "code",
   "execution_count": 19,
   "id": "7efc01b7",
   "metadata": {},
   "outputs": [],
   "source": [
    "#merge author information with reviews \n",
    "review = review.merge(authors, how='left', on='book_id')"
   ]
  },
  {
   "cell_type": "code",
   "execution_count": 20,
   "id": "d4d749aa",
   "metadata": {},
   "outputs": [
    {
     "name": "stderr",
     "output_type": "stream",
     "text": [
      "/var/folders/h5/6b6s2cwd2m19kydv6p77mmdh0000gn/T/ipykernel_2228/3189724887.py:5: FutureWarning: Passing a negative integer is deprecated in version 1.0 and will not be supported in future version. Instead, use None to not limit the column width.\n",
      "  pd.set_option('display.max_colwidth', -1)\n"
     ]
    },
    {
     "data": {
      "text/html": [
       "<div>\n",
       "<style scoped>\n",
       "    .dataframe tbody tr th:only-of-type {\n",
       "        vertical-align: middle;\n",
       "    }\n",
       "\n",
       "    .dataframe tbody tr th {\n",
       "        vertical-align: top;\n",
       "    }\n",
       "\n",
       "    .dataframe thead th {\n",
       "        text-align: right;\n",
       "    }\n",
       "</style>\n",
       "<table border=\"1\" class=\"dataframe\">\n",
       "  <thead>\n",
       "    <tr style=\"text-align: right;\">\n",
       "      <th></th>\n",
       "      <th>book_id</th>\n",
       "      <th>genres</th>\n",
       "    </tr>\n",
       "  </thead>\n",
       "  <tbody>\n",
       "    <tr>\n",
       "      <th>137414</th>\n",
       "      <td>13481421</td>\n",
       "      <td>{'fantasy, paranormal': 1}</td>\n",
       "    </tr>\n",
       "    <tr>\n",
       "      <th>98207</th>\n",
       "      <td>28540592</td>\n",
       "      <td>{}</td>\n",
       "    </tr>\n",
       "    <tr>\n",
       "      <th>359048</th>\n",
       "      <td>2949077</td>\n",
       "      <td>{'non-fiction': 6, 'fantasy, paranormal': 1, 'history, historical fiction, biography': 1}</td>\n",
       "    </tr>\n",
       "  </tbody>\n",
       "</table>\n",
       "</div>"
      ],
      "text/plain": [
       "         book_id  \\\n",
       "137414  13481421   \n",
       "98207   28540592   \n",
       "359048  2949077    \n",
       "\n",
       "                                                                                           genres  \n",
       "137414  {'fantasy, paranormal': 1}                                                                 \n",
       "98207   {}                                                                                         \n",
       "359048  {'non-fiction': 6, 'fantasy, paranormal': 1, 'history, historical fiction, biography': 1}  "
      ]
     },
     "execution_count": 20,
     "metadata": {},
     "output_type": "execute_result"
    }
   ],
   "source": [
    "#Load genre information; \n",
    "path = \"data/goodreads_book_genres_initial.json.gz\"\n",
    "#change the third parameter if you want to load more rows into dataframe\n",
    "genres = load_data(path, cols = ['book_id','genres'], n_samples=500000)\n",
    "pd.set_option('display.max_colwidth', -1)\n",
    "genres.sample(3)"
   ]
  },
  {
   "cell_type": "code",
   "execution_count": 21,
   "id": "75a94492",
   "metadata": {},
   "outputs": [
    {
     "data": {
      "text/plain": [
       "(500001, 2)"
      ]
     },
     "execution_count": 21,
     "metadata": {},
     "output_type": "execute_result"
    }
   ],
   "source": [
    "genres.shape"
   ]
  },
  {
   "cell_type": "code",
   "execution_count": 22,
   "id": "32248b52",
   "metadata": {},
   "outputs": [],
   "source": [
    "genres['genres'] = genres['genres'].apply(lambda x: list(x.keys()))"
   ]
  },
  {
   "cell_type": "code",
   "execution_count": 23,
   "id": "e786d13e",
   "metadata": {},
   "outputs": [
    {
     "data": {
      "text/html": [
       "<div>\n",
       "<style scoped>\n",
       "    .dataframe tbody tr th:only-of-type {\n",
       "        vertical-align: middle;\n",
       "    }\n",
       "\n",
       "    .dataframe tbody tr th {\n",
       "        vertical-align: top;\n",
       "    }\n",
       "\n",
       "    .dataframe thead th {\n",
       "        text-align: right;\n",
       "    }\n",
       "</style>\n",
       "<table border=\"1\" class=\"dataframe\">\n",
       "  <thead>\n",
       "    <tr style=\"text-align: right;\">\n",
       "      <th></th>\n",
       "      <th>book_id</th>\n",
       "      <th>genres</th>\n",
       "    </tr>\n",
       "  </thead>\n",
       "  <tbody>\n",
       "    <tr>\n",
       "      <th>0</th>\n",
       "      <td>5333265</td>\n",
       "      <td>[history, historical fiction, biography]</td>\n",
       "    </tr>\n",
       "    <tr>\n",
       "      <th>1</th>\n",
       "      <td>1333909</td>\n",
       "      <td>[fiction, history, historical fiction, biography]</td>\n",
       "    </tr>\n",
       "    <tr>\n",
       "      <th>2</th>\n",
       "      <td>7327624</td>\n",
       "      <td>[fantasy, paranormal, fiction, mystery, thriller, crime, poetry]</td>\n",
       "    </tr>\n",
       "    <tr>\n",
       "      <th>3</th>\n",
       "      <td>6066819</td>\n",
       "      <td>[fiction, romance, mystery, thriller, crime]</td>\n",
       "    </tr>\n",
       "    <tr>\n",
       "      <th>4</th>\n",
       "      <td>287140</td>\n",
       "      <td>[non-fiction]</td>\n",
       "    </tr>\n",
       "  </tbody>\n",
       "</table>\n",
       "</div>"
      ],
      "text/plain": [
       "   book_id                                                            genres\n",
       "0  5333265  [history, historical fiction, biography]                        \n",
       "1  1333909  [fiction, history, historical fiction, biography]               \n",
       "2  7327624  [fantasy, paranormal, fiction, mystery, thriller, crime, poetry]\n",
       "3  6066819  [fiction, romance, mystery, thriller, crime]                    \n",
       "4  287140   [non-fiction]                                                   "
      ]
     },
     "execution_count": 23,
     "metadata": {},
     "output_type": "execute_result"
    }
   ],
   "source": [
    "genres.head()"
   ]
  },
  {
   "cell_type": "code",
   "execution_count": 24,
   "id": "871961ea",
   "metadata": {},
   "outputs": [],
   "source": [
    "#merge genre information with reviews \n",
    "review = review.merge(genres, how='left', on='book_id')"
   ]
  },
  {
   "cell_type": "code",
   "execution_count": 25,
   "id": "26ea14db",
   "metadata": {},
   "outputs": [
    {
     "data": {
      "text/html": [
       "<div>\n",
       "<style scoped>\n",
       "    .dataframe tbody tr th:only-of-type {\n",
       "        vertical-align: middle;\n",
       "    }\n",
       "\n",
       "    .dataframe tbody tr th {\n",
       "        vertical-align: top;\n",
       "    }\n",
       "\n",
       "    .dataframe thead th {\n",
       "        text-align: right;\n",
       "    }\n",
       "</style>\n",
       "<table border=\"1\" class=\"dataframe\">\n",
       "  <thead>\n",
       "    <tr style=\"text-align: right;\">\n",
       "      <th></th>\n",
       "      <th>book_id</th>\n",
       "      <th>review_text</th>\n",
       "      <th>rating</th>\n",
       "      <th>sentiment</th>\n",
       "      <th>language_code</th>\n",
       "      <th>authors</th>\n",
       "      <th>author_id</th>\n",
       "      <th>author_names</th>\n",
       "      <th>genres</th>\n",
       "    </tr>\n",
       "  </thead>\n",
       "  <tbody>\n",
       "    <tr>\n",
       "      <th>0</th>\n",
       "      <td>13526165</td>\n",
       "      <td>So many people loved this one, but it just didn't work for me. Too over-the-top and bizarre for me. I didn't find any of it funny, just... strange. Stopped reading a little over halfway through, too many other books calling to me!</td>\n",
       "      <td>0</td>\n",
       "      <td>bad</td>\n",
       "      <td>NaN</td>\n",
       "      <td>NaN</td>\n",
       "      <td>NaN</td>\n",
       "      <td>NaN</td>\n",
       "      <td>NaN</td>\n",
       "    </tr>\n",
       "    <tr>\n",
       "      <th>1</th>\n",
       "      <td>25785553</td>\n",
       "      <td>Meh, whatever. some of the explanations of dog behavior are interesting but I got sick of hearing about the authors dog.</td>\n",
       "      <td>2</td>\n",
       "      <td>bad</td>\n",
       "      <td>NaN</td>\n",
       "      <td>NaN</td>\n",
       "      <td>NaN</td>\n",
       "      <td>NaN</td>\n",
       "      <td>NaN</td>\n",
       "    </tr>\n",
       "    <tr>\n",
       "      <th>2</th>\n",
       "      <td>12283261</td>\n",
       "      <td>http://librarianosnark.blogspot.com/2...</td>\n",
       "      <td>2</td>\n",
       "      <td>bad</td>\n",
       "      <td>NaN</td>\n",
       "      <td>NaN</td>\n",
       "      <td>NaN</td>\n",
       "      <td>NaN</td>\n",
       "      <td>NaN</td>\n",
       "    </tr>\n",
       "    <tr>\n",
       "      <th>3</th>\n",
       "      <td>6186188</td>\n",
       "      <td>Jackie says: \\n This new novel by the author of Time Is A River takes us to the coast of South Carolina and into the world of the shrimping industry, hit hard by the current economy and imports of foreign shrimp to American markets. It's the story of Bud and Carolina, whose decades of marriage is on shaky ground. It's also the story of a down on its luck town who, when emergency strikes, pulls together and takes care of its own while forgetting all the rivalries and resentments and worries that generally plague them. The story moves back and forth between the present and scenes from Bud and Carolina's past, giving depth and background to the characters to this well told story. \\n ***Unchain Yourself! Please look for this great book at your local independent book store. There is a store finder at indiebound.org.***</td>\n",
       "      <td>0</td>\n",
       "      <td>bad</td>\n",
       "      <td>NaN</td>\n",
       "      <td>NaN</td>\n",
       "      <td>NaN</td>\n",
       "      <td>NaN</td>\n",
       "      <td>NaN</td>\n",
       "    </tr>\n",
       "    <tr>\n",
       "      <th>4</th>\n",
       "      <td>18143977</td>\n",
       "      <td>I had a problem with the structure of this book and the author's writing style. \\n He tells the story in a non-linear fashion, starting in 1944, then back to 1934, back to 1944 and back to 1940. The chapters vary in length from two to five or six pages. That's a minor issue for me. \\n Mr. Doerr uses mostly short sentences and many sentence fragments or groups of words that are not a sentence. While reading it I got the feeling that it's coming at me staccato, boom-boom-boom. This became rather tiresome after reading twenty or thirty pages. But I soldiered on and, after 130 or so pages and not feeling compelled to continue, I decided to give up the ghost. \\n In fairness, since I haven't finished it, I'm not going to give any stars.</td>\n",
       "      <td>0</td>\n",
       "      <td>bad</td>\n",
       "      <td>NaN</td>\n",
       "      <td>NaN</td>\n",
       "      <td>NaN</td>\n",
       "      <td>NaN</td>\n",
       "      <td>NaN</td>\n",
       "    </tr>\n",
       "  </tbody>\n",
       "</table>\n",
       "</div>"
      ],
      "text/plain": [
       "    book_id  \\\n",
       "0  13526165   \n",
       "1  25785553   \n",
       "2  12283261   \n",
       "3  6186188    \n",
       "4  18143977   \n",
       "\n",
       "                                                                                                                                                                                                                                                                                                                                                                                                                                                                                                                                                                                                                                                                                                                                                                                                                                                 review_text  \\\n",
       "0  So many people loved this one, but it just didn't work for me. Too over-the-top and bizarre for me. I didn't find any of it funny, just... strange. Stopped reading a little over halfway through, too many other books calling to me!                                                                                                                                                                                                                                                                                                                                                                                                                                                                                                                                                                                                                      \n",
       "1  Meh, whatever. some of the explanations of dog behavior are interesting but I got sick of hearing about the authors dog.                                                                                                                                                                                                                                                                                                                                                                                                                                                                                                                                                                                                                                                                                                                                    \n",
       "2  http://librarianosnark.blogspot.com/2...                                                                                                                                                                                                                                                                                                                                                                                                                                                                                                                                                                                                                                                                                                                                                                                                                    \n",
       "3  Jackie says: \\n This new novel by the author of Time Is A River takes us to the coast of South Carolina and into the world of the shrimping industry, hit hard by the current economy and imports of foreign shrimp to American markets. It's the story of Bud and Carolina, whose decades of marriage is on shaky ground. It's also the story of a down on its luck town who, when emergency strikes, pulls together and takes care of its own while forgetting all the rivalries and resentments and worries that generally plague them. The story moves back and forth between the present and scenes from Bud and Carolina's past, giving depth and background to the characters to this well told story. \\n ***Unchain Yourself! Please look for this great book at your local independent book store. There is a store finder at indiebound.org.***   \n",
       "4  I had a problem with the structure of this book and the author's writing style. \\n He tells the story in a non-linear fashion, starting in 1944, then back to 1934, back to 1944 and back to 1940. The chapters vary in length from two to five or six pages. That's a minor issue for me. \\n Mr. Doerr uses mostly short sentences and many sentence fragments or groups of words that are not a sentence. While reading it I got the feeling that it's coming at me staccato, boom-boom-boom. This became rather tiresome after reading twenty or thirty pages. But I soldiered on and, after 130 or so pages and not feeling compelled to continue, I decided to give up the ghost. \\n In fairness, since I haven't finished it, I'm not going to give any stars.                                                                                        \n",
       "\n",
       "   rating sentiment language_code authors author_id author_names genres  \n",
       "0  0       bad       NaN           NaN     NaN       NaN          NaN    \n",
       "1  2       bad       NaN           NaN     NaN       NaN          NaN    \n",
       "2  2       bad       NaN           NaN     NaN       NaN          NaN    \n",
       "3  0       bad       NaN           NaN     NaN       NaN          NaN    \n",
       "4  0       bad       NaN           NaN     NaN       NaN          NaN    "
      ]
     },
     "execution_count": 25,
     "metadata": {},
     "output_type": "execute_result"
    }
   ],
   "source": [
    "review.head()"
   ]
  },
  {
   "cell_type": "code",
   "execution_count": 26,
   "id": "27901694",
   "metadata": {},
   "outputs": [
    {
     "data": {
      "text/plain": [
       "book_id          0     \n",
       "review_text      0     \n",
       "rating           0     \n",
       "sentiment        0     \n",
       "language_code    587426\n",
       "authors          587426\n",
       "author_id        587429\n",
       "author_names     587429\n",
       "genres           587426\n",
       "dtype: int64"
      ]
     },
     "execution_count": 26,
     "metadata": {},
     "output_type": "execute_result"
    }
   ],
   "source": [
    "#Checking to see how many null values are in the dataframe.\n",
    "review.isnull().sum()"
   ]
  },
  {
   "cell_type": "code",
   "execution_count": 27,
   "id": "f057f638",
   "metadata": {},
   "outputs": [],
   "source": [
    "#Save file \n",
    "review.to_csv('data/reviews_authors_genres.csv')"
   ]
  },
  {
   "cell_type": "code",
   "execution_count": null,
   "id": "e14b5d86",
   "metadata": {},
   "outputs": [],
   "source": []
  },
  {
   "cell_type": "code",
   "execution_count": null,
   "id": "777c97da",
   "metadata": {},
   "outputs": [],
   "source": []
  }
 ],
 "metadata": {
  "kernelspec": {
   "display_name": "Python 3 (ipykernel)",
   "language": "python",
   "name": "python3"
  },
  "language_info": {
   "codemirror_mode": {
    "name": "ipython",
    "version": 3
   },
   "file_extension": ".py",
   "mimetype": "text/x-python",
   "name": "python",
   "nbconvert_exporter": "python",
   "pygments_lexer": "ipython3",
   "version": "3.9.7"
  }
 },
 "nbformat": 4,
 "nbformat_minor": 5
}
